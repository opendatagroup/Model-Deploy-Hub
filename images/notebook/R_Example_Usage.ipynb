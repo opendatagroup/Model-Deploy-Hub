{
 "cells": [
  {
   "cell_type": "markdown",
   "metadata": {},
   "source": [
    "Import necessary libraries"
   ]
  },
  {
   "cell_type": "code",
   "execution_count": null,
   "metadata": {},
   "outputs": [],
   "source": [
    "library(fastscore)"
   ]
  },
  {
   "cell_type": "markdown",
   "metadata": {},
   "source": [
    "# Model Definition\n",
    "\n",
    "Define the input and output schemata, as well as the model."
   ]
  },
  {
   "cell_type": "code",
   "execution_count": null,
   "metadata": {},
   "outputs": [],
   "source": [
    "# Create an attachment\n",
    "model_params <- list(a=1, b=2)\n",
    "save(model_params, file='model_params.RData')"
   ]
  },
  {
   "cell_type": "code",
   "execution_count": null,
   "metadata": {
    "collapsed": true
   },
   "outputs": [],
   "source": [
    "# Input and output schemata are JSON strings\n",
    "schin <- '{\"type\":\"record\", \"name\":\"schin\", \"fields\":[{\"name\":\"x\", \"type\":\"int\"}, {\"name\":\"y\", \"type\":\"int\"}]}'\n",
    "schout <- '{\"type\":\"record\", \"name\":\"schin\", \"fields\":[{\"name\":\"x\", \"type\":\"int\"}, {\"name\":\"y\", \"type\":\"int\"}, {\"name\":\"z\", \"type\":\"int\"}]}'\n",
    "\n",
    "# Model is a string of R code\n",
    "modelstr <- '\n",
    "# fastscore.input: schin\n",
    "# fastscore.output: schout\n",
    "# fastscore.recordsets: none\n",
    "\n",
    "begin <- function(){\n",
    "  load(\"model_params.RData\")\n",
    "  model_params <<- model_params # copy to global environment\n",
    "}\n",
    "\n",
    "action <- function(datum){\n",
    "  # This is equally valid for records or data frames\n",
    "  myd <- datum\n",
    "  myd[[\"z\"]] <- model_params[[\"a\"]]*myd[[\"x\"]] + model_params[[\"b\"]]*myd[[\"y\"]]\n",
    "  emit(myd)\n",
    "}\n",
    "'"
   ]
  },
  {
   "cell_type": "markdown",
   "metadata": {},
   "source": [
    "Create the model object, passing the global environment to bind `begin()` and `action()`"
   ]
  },
  {
   "cell_type": "code",
   "execution_count": null,
   "metadata": {
    "collapsed": true
   },
   "outputs": [],
   "source": [
    "mymodel <- Model_from_string(modelstr, environment())"
   ]
  },
  {
   "cell_type": "markdown",
   "metadata": {},
   "source": [
    "Score some sample inputs using JSON:"
   ]
  },
  {
   "cell_type": "code",
   "execution_count": null,
   "metadata": {},
   "outputs": [],
   "source": [
    "mymodel$score(list('{\"x\":2, \"y\":3}', '{\"x\":4, \"y\":8}'), use_json=TRUE)"
   ]
  },
  {
   "cell_type": "markdown",
   "metadata": {},
   "source": [
    "Validate against expected outputs (note the schema error in the second output):"
   ]
  },
  {
   "cell_type": "code",
   "execution_count": null,
   "metadata": {},
   "outputs": [],
   "source": [
    "mymodel$validate(list('{\"x\":2, \"y\":3}', '{\"x\":4, \"y\":8}'), list('{\"x\":2,\"y\":3,\"z\":5}', '{\"x\":4,\"y\":8,\"z\":12}'), use_json=TRUE)"
   ]
  },
  {
   "cell_type": "markdown",
   "metadata": {},
   "source": [
    "Record sets are also supported."
   ]
  },
  {
   "cell_type": "code",
   "execution_count": null,
   "metadata": {},
   "outputs": [],
   "source": [
    "# change the option\n",
    "mymodel$options[['recordsets']] <- 'both'\n",
    "\n",
    "# create a dataframe\n",
    "mydf <- data.frame(x=c(1, 2, 3, 4), y=c(6, 7, 8, 9))\n",
    "mymodel$score(mydf)"
   ]
  },
  {
   "cell_type": "markdown",
   "metadata": {},
   "source": [
    "We can also use JSON inputs."
   ]
  },
  {
   "cell_type": "code",
   "execution_count": null,
   "metadata": {},
   "outputs": [],
   "source": [
    "# convert the dataframe to JSON\n",
    "inputs <- recordset_to_json(mydf, mymodel$input_schema)\n",
    "\n",
    "mymodel$score(inputs, use_json=TRUE)"
   ]
  },
  {
   "cell_type": "markdown",
   "metadata": {},
   "source": [
    "Rebind the model's begin() or action methods:"
   ]
  },
  {
   "cell_type": "code",
   "execution_count": null,
   "metadata": {},
   "outputs": [],
   "source": [
    "mymodel$begin <- function(){\n",
    "    load(\"model_params.RData\")\n",
    "    model_params <<- model_params # copy to global environment\n",
    "    message(\"Now we're cooking with fire\")\n",
    "}\n",
    "mymodel$score(mydf)"
   ]
  },
  {
   "cell_type": "markdown",
   "metadata": {},
   "source": [
    "Let's take a look at what the model will look like in FastScore."
   ]
  },
  {
   "cell_type": "code",
   "execution_count": null,
   "metadata": {},
   "outputs": [],
   "source": [
    "mymodel$to_string()"
   ]
  },
  {
   "cell_type": "markdown",
   "metadata": {},
   "source": [
    "Don't forget to include the attachment with the model data! Attachment bundles must be either .zip or .tar.gz files."
   ]
  },
  {
   "cell_type": "code",
   "execution_count": null,
   "metadata": {
    "collapsed": true
   },
   "outputs": [],
   "source": [
    "system('tar czvf rattachment.tar.gz model_params.RData')\n",
    "mymodel$attachments[['model_params']] <- 'rattachment.tar.gz'"
   ]
  },
  {
   "cell_type": "markdown",
   "metadata": {},
   "source": [
    "# FastScore Engines\n",
    "\n",
    "The `Engine` class lets you interact directly with a running engine."
   ]
  },
  {
   "cell_type": "code",
   "execution_count": null,
   "metadata": {},
   "outputs": [],
   "source": [
    "engine <- Engine(proxy_prefix='https://localhost:8000', container='engine-x-3')"
   ]
  },
  {
   "cell_type": "markdown",
   "metadata": {},
   "source": [
    "`Model` objects can be deployed directly to an `Engine` (check the FastScore Dashboard)"
   ]
  },
  {
   "cell_type": "code",
   "execution_count": null,
   "metadata": {},
   "outputs": [],
   "source": [
    "mymodel$name <- 'example_R_model'\n",
    "engine$deploy(mymodel)"
   ]
  },
  {
   "cell_type": "markdown",
   "metadata": {},
   "source": [
    "Automatic JSON serialization lets you pass objects directly to a running `Engine` for scoring."
   ]
  },
  {
   "cell_type": "code",
   "execution_count": null,
   "metadata": {},
   "outputs": [],
   "source": [
    "engine$score(mydf)"
   ]
  },
  {
   "cell_type": "markdown",
   "metadata": {},
   "source": [
    "Or, you can use JSON-encoded inputs"
   ]
  },
  {
   "cell_type": "code",
   "execution_count": null,
   "metadata": {},
   "outputs": [],
   "source": [
    "engine$score(inputs, use_json=TRUE)"
   ]
  },
  {
   "cell_type": "markdown",
   "metadata": {},
   "source": [
    "When you're done, stop the engine and unload the model."
   ]
  },
  {
   "cell_type": "code",
   "execution_count": null,
   "metadata": {},
   "outputs": [],
   "source": [
    "engine$stop()"
   ]
  }
 ],
 "metadata": {
  "kernelspec": {
   "display_name": "R",
   "language": "R",
   "name": "ir"
  },
  "language_info": {
   "codemirror_mode": "r",
   "file_extension": ".r",
   "mimetype": "text/x-r-source",
   "name": "R",
   "pygments_lexer": "r",
   "version": "3.3.2"
  }
 },
 "nbformat": 4,
 "nbformat_minor": 2
}
